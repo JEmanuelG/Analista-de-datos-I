{
 "cells": [
  {
   "cell_type": "markdown",
   "id": "92901651",
   "metadata": {},
   "source": [
    "# Análisis de Datos de Ventas\n",
    "\n",
    "## · Importar los datos"
   ]
  },
  {
   "cell_type": "code",
   "execution_count": 76,
   "id": "3791fbe6",
   "metadata": {},
   "outputs": [],
   "source": [
    "import pandas as pd\n",
    "import matplotlib.pyplot as plt\n",
    "\n",
    "# Importar los datos\n",
    "df = pd.read_csv('./Datos/American Things - Base de Datos.csv', encoding='latin-1')\n",
    "\n",
    "\n",
    "\n",
    "### datos dumplicados, aplica a numeros de factura, que deben ser unicos para la empresa"
   ]
  },
  {
   "cell_type": "markdown",
   "id": "5e30b286",
   "metadata": {},
   "source": [
    "# LIMPIEZA DE DATOS"
   ]
  },
  {
   "cell_type": "markdown",
   "id": "c59cb028",
   "metadata": {},
   "source": [
    "## Datos con formato incorrecto y datos ausentes\n",
    "### Formatea las columnas \"Costo\", \"Ventas\" y \"Resenia\" a formato numérico, reemplazando los datos incorrectos por valores nulos(Nan) y posteriormente se reemplazan los valores nulos por la Media de cada columna"
   ]
  },
  {
   "cell_type": "code",
   "execution_count": 77,
   "id": "8616fd55",
   "metadata": {},
   "outputs": [],
   "source": [
    "# Convierte los str formato numero y los errores en NaN\n",
    "df['Costo'] = pd.to_numeric(df['Costo'], errors='coerce')\n",
    "df['Ventas'] = pd.to_numeric(df['Ventas'], errors='coerce')\n",
    "df['Resenia'] = pd.to_numeric(df['Resenia'], errors='coerce')\n",
    "\n",
    "# Reemplaza los valores nulos(NaN) por la media de la columna\n",
    "df['Costo'] = df['Costo'].fillna(df['Costo'].mean())\n",
    "df['Ventas'] = df['Ventas'].fillna(df['Ventas'].mean())\n",
    "df['Resenia'] = df['Resenia'].fillna(df['Resenia'].mean())"
   ]
  },
  {
   "cell_type": "markdown",
   "id": "484c309e",
   "metadata": {},
   "source": [
    "## Datos duplicados\n",
    "### Borra el o los registros duplicados en la columna \"Factura\""
   ]
  },
  {
   "cell_type": "code",
   "execution_count": 78,
   "id": "4e319a59",
   "metadata": {},
   "outputs": [],
   "source": [
    "# Eliminar duplicados considerando solo la columna 'Factura'\n",
    "df = df.drop_duplicates(subset=['Factura'])"
   ]
  },
  {
   "cell_type": "markdown",
   "id": "0f193dd6",
   "metadata": {},
   "source": [
    "## Datos erroneos\n",
    "### Se modifican los valores erroneos en las columnas"
   ]
  },
  {
   "cell_type": "code",
   "execution_count": 79,
   "id": "6351e156",
   "metadata": {},
   "outputs": [],
   "source": [
    "# Convierte los valores a formato FECHA y los errores en NaN\n",
    "df['Fecha'] = pd.to_datetime(df['Fecha'], errors='coerce')\n",
    "\n",
    "# Reemplaza los valores nulos(NaN) por el último valor no nulo\n",
    "df['Fecha'] = df['Fecha'].ffill()\n",
    "\n",
    "\n",
    "for i in df.index:\n",
    "\n",
    "    # Controla si el valor de las reseñas está entre 1 y 10, de lo contrario se reemplaza el valor por la media de la columna 'Resenia'\n",
    "    if df.loc[i, 'Resenia'] < 1 or df.loc[i, 'Resenia'] > 10:\n",
    "        df.loc[i, 'Resenia'] = df['Resenia'].mean()\n",
    "\n",
    "    # Controla si el valor la columna \"Tipo\" es \"Normal\" o \"Member\", de lo contrario se reemplaza el valor por \"Normal\"\n",
    "    if df.loc[i, \"Tipo\"] not in (\"Normal\",\"Member\"):\n",
    "        df.loc[i, \"Tipo\"] = \"Normal\"\n",
    "\n",
    "    # Controla si el valor la columna \"Costo\" y \"Ventas\" es 0 < valor < 5000, de lo contrario se reemplaza por la mediana de cada columna\n",
    "    if df.loc[i, \"Costo\"] <= 0 or df.loc[i, \"Costo\"] > 5000:\n",
    "        df.loc[i, \"Costo\"] = df[\"Costo\"].median()\n",
    "\n",
    "    if df.loc[i, \"Ventas\"] <= 0 or df.loc[i, \"Ventas\"] > 5000:\n",
    "        df.loc[i, \"Ventas\"] = df[\"Ventas\"].median()\n",
    "    \n",
    "    #if len(df.loc[i, \"Ciudad\"]) < 5:\n",
    "    #print(len(df.loc[i, \"Ciudad\"]))"
   ]
  },
  {
   "cell_type": "markdown",
   "id": "120a6e2b",
   "metadata": {},
   "source": [
    "## · Imprimir los primeros diez registros"
   ]
  },
  {
   "cell_type": "code",
   "execution_count": 80,
   "id": "4614a920",
   "metadata": {},
   "outputs": [
    {
     "name": "stdout",
     "output_type": "stream",
     "text": [
      "       Factura Sucursal      Ciudad    Tipo  Genero               Categoria  \\\n",
      "0  750-67-8428        A  Nueva York  Member  Female       Health and beauty   \n",
      "1  226-31-3081        C     Houston  Normal  Female  Electronic accessories   \n",
      "2  631-41-3108        A  Nueva York  Normal    Male      Home and lifestyle   \n",
      "3  123-19-1176        A  Nueva York  Member    Male       Health and beauty   \n",
      "4  373-73-7910        A       Green  Normal    Male       Sports and travel   \n",
      "5  699-14-3026        C     Houston  Normal    Male  Electronic accessories   \n",
      "6  355-53-5943        A  Nueva York  Member  Female  Electronic accessories   \n",
      "7  315-22-5665        C         N/N  Normal  Female      Home and lifestyle   \n",
      "8  665-32-9167        A  Nueva York  Member  Female       Health and beauty   \n",
      "9  692-92-5582        B     Chicago  Member  Female                  Female   \n",
      "\n",
      "    Costo  Ventas      Fecha   Hora Metodo de Pago   Resenia  \n",
      "0  522.83  548.97 2019-01-05  13:08        Ewallet  6.996456  \n",
      "1   76.40   80.22 2019-03-08  10:29           Cash  9.600000  \n",
      "2  324.31  340.53 2019-03-08  13:23    Credit card  7.400000  \n",
      "3  465.76  489.05 2019-01-27  20:33        Ewallet  8.400000  \n",
      "4  604.17  634.38 2019-02-08  10:37     Nueva York  5.300000  \n",
      "5  597.73  627.62 2019-03-25  18:30        Ewallet  4.100000  \n",
      "6  413.04  433.69 2019-02-25  14:36        Ewallet  5.800000  \n",
      "7  735.60  772.38 2019-02-24  11:38        Ewallet  8.000000  \n",
      "8   72.52   76.15 2019-01-10  17:15    Credit card  7.200000  \n",
      "9  280.62  172.75 2019-02-20  13:27    Credit card  5.900000  \n"
     ]
    }
   ],
   "source": [
    "print(df.head(10))"
   ]
  },
  {
   "cell_type": "markdown",
   "id": "13d04037",
   "metadata": {},
   "source": [
    "## ·        Describir el dataset"
   ]
  },
  {
   "cell_type": "code",
   "execution_count": 81,
   "id": "ffc65f88",
   "metadata": {},
   "outputs": [
    {
     "name": "stdout",
     "output_type": "stream",
     "text": [
      "            Factura Sucursal      Ciudad    Tipo Genero           Categoria  \\\n",
      "count           394      389         384     395    391                 378   \n",
      "unique          394       15          15       2     10                  22   \n",
      "top     831-64-0259        A  Nueva York  Normal   Male  Home and lifestyle   \n",
      "freq              1      135         131     215    195                  65   \n",
      "mean            NaN      NaN         NaN     NaN    NaN                 NaN   \n",
      "min             NaN      NaN         NaN     NaN    NaN                 NaN   \n",
      "25%             NaN      NaN         NaN     NaN    NaN                 NaN   \n",
      "50%             NaN      NaN         NaN     NaN    NaN                 NaN   \n",
      "75%             NaN      NaN         NaN     NaN    NaN                 NaN   \n",
      "max             NaN      NaN         NaN     NaN    NaN                 NaN   \n",
      "std             NaN      NaN         NaN     NaN    NaN                 NaN   \n",
      "\n",
      "             Costo      Ventas                          Fecha   Hora  \\\n",
      "count   395.000000  395.000000                            395    387   \n",
      "unique         NaN         NaN                            NaN    300   \n",
      "top            NaN         NaN                            NaN  10:25   \n",
      "freq           NaN         NaN                            NaN      4   \n",
      "mean    315.643772  327.804076  2019-02-28 00:00:00.000000256    NaN   \n",
      "min       2.000000   13.170000            2019-01-01 00:00:00    NaN   \n",
      "25%     142.065000  145.905000            2019-01-26 00:00:00    NaN   \n",
      "50%     280.620000  284.190000            2019-02-17 00:00:00    NaN   \n",
      "75%     442.320000  473.330000            2019-03-09 00:00:00    NaN   \n",
      "max     993.000000  950.250000            2026-03-24 00:00:00    NaN   \n",
      "std     224.842773  233.880667                            NaN    NaN   \n",
      "\n",
      "       Metodo de Pago     Resenia  \n",
      "count             392  395.000000  \n",
      "unique              7         NaN  \n",
      "top              Cash         NaN  \n",
      "freq              148         NaN  \n",
      "mean              NaN    7.009042  \n",
      "min               NaN    4.000000  \n",
      "25%               NaN    5.600000  \n",
      "50%               NaN    6.996456  \n",
      "75%               NaN    8.400000  \n",
      "max               NaN   10.000000  \n",
      "std               NaN    1.711522  \n"
     ]
    }
   ],
   "source": [
    "print(df.describe(include='all'))"
   ]
  },
  {
   "cell_type": "markdown",
   "id": "38b79926",
   "metadata": {},
   "source": [
    "## ·        Análisis de columnas numéricas"
   ]
  },
  {
   "cell_type": "code",
   "execution_count": 82,
   "id": "e4769e4d",
   "metadata": {},
   "outputs": [
    {
     "name": "stdout",
     "output_type": "stream",
     "text": [
      "Análisis de la columna numérica: Costo\n",
      "Valores válidos sobre el total: 395 / 395\n",
      "Media: 315.64\n",
      "Mediana: 280.62\n",
      "Desviación estándar: 224.84\n",
      "Valores ausentes: 0\n",
      "Valores mal registrados o erróneos: 0\n",
      "\n",
      "Análisis de la columna numérica: Ventas\n",
      "Valores válidos sobre el total: 395 / 395\n",
      "Media: 327.8\n",
      "Mediana: 284.19\n",
      "Desviación estándar: 233.88\n",
      "Valores ausentes: 0\n",
      "Valores mal registrados o erróneos: 0\n",
      "\n",
      "Análisis de la columna numérica: Resenia\n",
      "Valores válidos sobre el total: 395 / 395\n",
      "Media: 7.01\n",
      "Mediana: 7.0\n",
      "Desviación estándar: 1.71\n",
      "Valores ausentes: 0\n",
      "Valores mal registrados o erróneos: 0\n",
      "\n"
     ]
    }
   ],
   "source": [
    "numeric_cols = df.select_dtypes(include=['number']).columns\n",
    "\n",
    "for col in numeric_cols:\n",
    "    print(f\"Análisis de la columna numérica: {col}\")\n",
    "    print(f\"Valores válidos sobre el total: {df[col].count()} / {len(df)}\")\n",
    "    print(f\"Media: {round(df[col].mean(), 2)}\")\n",
    "    print(f\"Mediana: {round(df[col].median(), 2)}\")\n",
    "    print(f\"Desviación estándar: {round(df[col].std(), 2)}\")\n",
    "    print(f\"Valores ausentes: {df[col].isna().sum()}\")\n",
    "    print(f\"Valores mal registrados o erróneos: {df[col].isna().sum() + df[col].isnull().sum()}\")\n",
    "    print(\"\")"
   ]
  },
  {
   "cell_type": "markdown",
   "id": "ad783e8b",
   "metadata": {},
   "source": [
    "## ·        Análisis de columnas categóricas"
   ]
  },
  {
   "cell_type": "code",
   "execution_count": 83,
   "id": "96c20dcb",
   "metadata": {},
   "outputs": [
    {
     "name": "stdout",
     "output_type": "stream",
     "text": [
      "Análisis de la columna categórica: Factura\n",
      "Factura\n",
      "831-64-0259    1\n",
      "750-67-8428    1\n",
      "226-31-3081    1\n",
      "631-41-3108    1\n",
      "123-19-1176    1\n",
      "              ..\n",
      "829-34-3910    1\n",
      "252-56-2699    1\n",
      "365-64-0515    1\n",
      "529-56-3974    1\n",
      "351-62-0822    1\n",
      "Name: count, Length: 394, dtype: int64\n",
      "Registros válidos sobre el total: 394 / 395\n",
      "Valores ausentes: 1\n",
      "Valores mal registrados o erróneos: 2\n",
      "\n",
      "Análisis de la columna categórica: Sucursal\n",
      "Sucursal\n",
      "A            135\n",
      "C            129\n",
      "B            112\n",
      "2/27/2019      2\n",
      "12             1\n",
      "PP             1\n",
      "Cisco          1\n",
      "SAda           1\n",
      "Aer            1\n",
      "ZZZ            1\n",
      "65             1\n",
      "ARCa555        1\n",
      "ara            1\n",
      "aaswee         1\n",
      "Male           1\n",
      "Name: count, dtype: int64\n",
      "Registros válidos sobre el total: 389 / 395\n",
      "Valores ausentes: 6\n",
      "Valores mal registrados o erróneos: 12\n",
      "\n",
      "Análisis de la columna categórica: Ciudad\n",
      "Ciudad\n",
      "Nueva York    131\n",
      "Houston       124\n",
      "Chicago       113\n",
      "Male            3\n",
      "Female          2\n",
      "N/N             2\n",
      "Green           1\n",
      "5014            1\n",
      "Member          1\n",
      "Martin566       1\n",
      "111111          1\n",
      "A               1\n",
      "452263          1\n",
      "100%            1\n",
      "C               1\n",
      "Name: count, dtype: int64\n",
      "Registros válidos sobre el total: 384 / 395\n",
      "Valores ausentes: 11\n",
      "Valores mal registrados o erróneos: 22\n",
      "\n",
      "Análisis de la columna categórica: Tipo\n",
      "Tipo\n",
      "Normal    215\n",
      "Member    180\n",
      "Name: count, dtype: int64\n",
      "Registros válidos sobre el total: 395 / 395\n",
      "Valores ausentes: 0\n",
      "Valores mal registrados o erróneos: 0\n",
      "\n",
      "Análisis de la columna categórica: Genero\n",
      "Genero\n",
      "Male            195\n",
      "Female          186\n",
      "Normal            2\n",
      "Member            2\n",
      "193.01            1\n",
      "102.3             1\n",
      "Malo              1\n",
      "Noraml            1\n",
      "FemaleMember      1\n",
      "2/14/2019         1\n",
      "Name: count, dtype: int64\n",
      "Registros válidos sobre el total: 391 / 395\n",
      "Valores ausentes: 4\n",
      "Valores mal registrados o erróneos: 8\n",
      "\n",
      "Análisis de la columna categórica: Categoria\n",
      "Categoria\n",
      "Home and lifestyle        65\n",
      "Electronic accessories    63\n",
      "Food and beverages        61\n",
      "Health and beauty         58\n",
      "Fashion accessories       58\n",
      "Sports and travel         50\n",
      "2/14/2019                  6\n",
      "Female                     2\n",
      "N/N                        2\n",
      "Blue                       1\n",
      "722.33                     1\n",
      "Carlos Paz                 1\n",
      "394-55-2444                1\n",
      "35897155                   1\n",
      "5555556                    1\n",
      "Food Lifestyle586          1\n",
      "C                          1\n",
      "5666332                    1\n",
      "Male555                    1\n",
      "66232                      1\n",
      "Ewallet                    1\n",
      "55%                        1\n",
      "Name: count, dtype: int64\n",
      "Registros válidos sobre el total: 378 / 395\n",
      "Valores ausentes: 17\n",
      "Valores mal registrados o erróneos: 34\n",
      "\n",
      "Análisis de la columna categórica: Hora\n",
      "Hora\n",
      "10:25    4\n",
      "19:57    3\n",
      "19:17    3\n",
      "19:06    3\n",
      "14:16    3\n",
      "        ..\n",
      "11:03    1\n",
      "13:08    1\n",
      "19:21    1\n",
      "16:48    1\n",
      "13:38    1\n",
      "Name: count, Length: 300, dtype: int64\n",
      "Registros válidos sobre el total: 387 / 395\n",
      "Valores ausentes: 8\n",
      "Valores mal registrados o erróneos: 16\n",
      "\n",
      "Análisis de la columna categórica: Metodo de Pago\n",
      "Metodo de Pago\n",
      "Cash           148\n",
      "Ewallet        123\n",
      "Credit card    116\n",
      "3/18/2019        2\n",
      "Nueva York       1\n",
      "Miembro          1\n",
      "112.22           1\n",
      "Name: count, dtype: int64\n",
      "Registros válidos sobre el total: 392 / 395\n",
      "Valores ausentes: 3\n",
      "Valores mal registrados o erróneos: 6\n",
      "\n"
     ]
    }
   ],
   "source": [
    "categorical_cols = df.select_dtypes(include=['object']).columns\n",
    "\n",
    "for col in categorical_cols:\n",
    "    print(f\"Análisis de la columna categórica: {col}\")\n",
    "    print(df[col].value_counts())\n",
    "    print(f\"Registros válidos sobre el total: {df[col].count()} / {len(df)}\")\n",
    "    print(f\"Valores ausentes: {df[col].isna().sum()}\")\n",
    "    print(f\"Valores mal registrados o erróneos: {df[col].isna().sum() + df[col].isnull().sum()}\")\n",
    "    print(\"\")"
   ]
  },
  {
   "cell_type": "markdown",
   "id": "4422be3e",
   "metadata": {},
   "source": [
    "## ·        Análisis de otras variables"
   ]
  },
  {
   "cell_type": "code",
   "execution_count": 84,
   "id": "97e6e11f",
   "metadata": {},
   "outputs": [
    {
     "name": "stdout",
     "output_type": "stream",
     "text": [
      "Análisis de la columna: Fecha\n",
      "Valores válidos sobre el total: 395 / 395\n",
      "Valores ausentes: 0\n",
      "Valores mal registrados o erróneos: 0\n",
      "\n"
     ]
    }
   ],
   "source": [
    "other_cols = df.columns.difference(numeric_cols).difference(categorical_cols)\n",
    "\n",
    "for col in other_cols:\n",
    "    print(f\"Análisis de la columna: {col}\")\n",
    "    print(f\"Valores válidos sobre el total: {df[col].count()} / {len(df)}\")\n",
    "    print(f\"Valores ausentes: {df[col].isna().sum()}\")\n",
    "    print(f\"Valores mal registrados o erróneos: {df[col].isna().sum() + df[col].isnull().sum()}\")\n",
    "    print(\"\")"
   ]
  },
  {
   "cell_type": "markdown",
   "id": "5a14612c",
   "metadata": {},
   "source": [
    "# GRÁFICOS "
   ]
  },
  {
   "cell_type": "markdown",
   "id": "3377ad44",
   "metadata": {},
   "source": [
    "## Gráfico de cantidad de Ventas por Ciudad"
   ]
  },
  {
   "cell_type": "code",
   "execution_count": 85,
   "id": "da51c364",
   "metadata": {},
   "outputs": [],
   "source": [
    "\n",
    "vta_ciudad = pd.DataFrame(df[\"Ciudad\"].value_counts())\n",
    "\n",
    "#plt.bar(vta_ciudad)\n",
    "plt.show()\n"
   ]
  },
  {
   "cell_type": "markdown",
   "id": "575d1ac3",
   "metadata": {},
   "source": [
    "## Gráfico de porcentajes de clientes que son miembros y de los que no son miembros "
   ]
  },
  {
   "cell_type": "code",
   "execution_count": null,
   "id": "ffcdfe5f",
   "metadata": {},
   "outputs": [],
   "source": []
  },
  {
   "cell_type": "markdown",
   "id": "f9321d02",
   "metadata": {},
   "source": [
    "## Gráfico de las reseñas de las sucursales (Calificación)"
   ]
  },
  {
   "cell_type": "code",
   "execution_count": 86,
   "id": "ae795d9d",
   "metadata": {},
   "outputs": [
    {
     "data": {
      "image/png": "[encoded data removed]",
      "text/plain": [
       "<Figure size 640x480 with 1 Axes>"
      ]
     },
     "metadata": {},
     "output_type": "display_data"
    }
   ],
   "source": [
    "plt.pie(df['Genero'].value_counts())\n",
    "plt.show()"
   ]
  },
  {
   "cell_type": "markdown",
   "id": "8feed061",
   "metadata": {},
   "source": [
    "## Gráfico de Ventas por categoría"
   ]
  },
  {
   "cell_type": "code",
   "execution_count": null,
   "id": "b73a15e9",
   "metadata": {},
   "outputs": [],
   "source": []
  }
 ],
 "metadata": {
  "kernelspec": {
   "display_name": "Python 3",
   "language": "python",
   "name": "python3"
  },
  "language_info": {
   "codemirror_mode": {
    "name": "ipython",
    "version": 3
   },
   "file_extension": ".py",
   "mimetype": "text/x-python",
   "name": "python",
   "nbconvert_exporter": "python",
   "pygments_lexer": "ipython3",
   "version": "3.13.0"
  }
 },
 "nbformat": 4,
 "nbformat_minor": 5
}
