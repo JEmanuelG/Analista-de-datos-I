{
 "cells": [
  {
   "cell_type": "markdown",
   "id": "f5ee9c25",
   "metadata": {},
   "source": [
    "\n",
    "# Análisis de Datos de Ventas\n",
    "\n",
    "## Descripción del Proyecto\n",
    "American Things, un poli rubro dedicado a la venta de productos en general, que se ha visto en la necesidad de organizar la información \n",
    "alojada en sus bases de datos respecto a las ventas realizadas durante un determinado período de tiempo. El proyecto propone el análisis\n",
    "y procesamiento de datos, relacionados a las ventas más actuales de la empresa, obtenidos en un período de tiempo, con el fin de desarrollar\n",
    "y aplicar, tecnologías y métodos destinados a poner en conocimiento al establecimiento, de las categorías de productos, que han tenido un\n",
    "alza o una baja en ventas, y a partir de ello, abordar las estrategias necesarias para mejorar los diferentes sectores y generar un mejor\n",
    "rendimiento.\n",
    "\n",
    "## Integrantes del Equipo\n",
    "- **Lucas Ryser** - 44.346.194 - lucasryser4k@gmail.com - [GitHub](https://github.com/lucasryser6)\n",
    "- **Emanuel Guaráz** - 38.276.061 - guarazjemanuel@gmail.com - [GitHub](https://github.com/JEmanuelG)\n",
    "- **Nicolás Allende Olmedo** - 35.871.057 - nicoallende92@gmail.com - [GitHub](https://github.com/AllendeNicolas)\n",
    "- **Bruno Lobo Souza** - 95.690.709 - lobosouza.it@gmail.com - [GitHub](https://github.com/lobosouza)\n",
    "- **Carlos Direni** - 28.117.281 - direnicarlos@gmail.com - [GitHub](https://github.com/Cdireni1)"
   ]
  },
  {
   "cell_type": "markdown",
   "id": "92901651",
   "metadata": {},
   "source": [
    "## ·        Importar los datos\n",
    "\n",
    "## ·        Imprimir los primeros diez registros"
   ]
  },
  {
   "cell_type": "code",
   "execution_count": null,
   "id": "3791fbe6",
   "metadata": {},
   "outputs": [],
   "source": [
    "import pandas as pd\n",
    "\n",
    "# Importar los datos\n",
    "df = pd.read_csv('American Things - Base de Datos.csv', encoding='latin-1')\n",
    "\n",
    "# convierte los str formato numero y los errores en NaN\n",
    "df['Costo'] = pd.to_numeric(df['Costo'], errors='coerce')\n",
    "df['Ventas'] = pd.to_numeric(df['Ventas'], errors='coerce')\n",
    "df['Resenia'] = pd.to_numeric(df['Resenia'], errors='coerce')\n",
    "\n",
    "# Mostrar los primeros 10 registros\n",
    "print(df.head(10))"
   ]
  },
  {
   "cell_type": "markdown",
   "id": "13d04037",
   "metadata": {},
   "source": [
    "## ·        Describir el dataset"
   ]
  },
  {
   "cell_type": "code",
   "execution_count": null,
   "id": "ffc65f88",
   "metadata": {},
   "outputs": [],
   "source": [
    "print(df.describe(include='all'))"
   ]
  },
  {
   "cell_type": "markdown",
   "id": "38b79926",
   "metadata": {},
   "source": [
    "## ·        Análisis de columnas numéricas"
   ]
  },
  {
   "cell_type": "code",
   "execution_count": null,
   "id": "e4769e4d",
   "metadata": {},
   "outputs": [],
   "source": [
    "numeric_cols = df.select_dtypes(include=['number']).columns\n",
    "\n",
    "for col in numeric_cols:\n",
    "    print(f\"Análisis de la columna numérica: {col}\")\n",
    "    print(f\"Valores válidos sobre el total: {df[col].count()} / {len(df)}\")\n",
    "    print(f\"Media: {round(df[col].mean(), 2)}\")\n",
    "    print(f\"Mediana: {df[col].median()}\")\n",
    "    print(f\"Desviación estándar: {round(df[col].std(), 2)}\")\n",
    "    print(f\"Valores ausentes: {df[col].isna().sum()}\")\n",
    "    print(f\"Valores mal registrados o erróneos: {df[col].isna().sum() + df[col].isnull().sum()}\")\n",
    "    print(\"\")"
   ]
  },
  {
   "cell_type": "markdown",
   "id": "ad783e8b",
   "metadata": {},
   "source": [
    "# ·        Análisis de columnas categóricas"
   ]
  },
  {
   "cell_type": "code",
   "execution_count": null,
   "id": "96c20dcb",
   "metadata": {},
   "outputs": [],
   "source": [
    "categorical_cols = df.select_dtypes(include=['object']).columns\n",
    "\n",
    "for col in categorical_cols:\n",
    "    print(f\"Análisis de la columna categórica: {col}\")\n",
    "    print(df[col].value_counts())\n",
    "    print(f\"Registros válidos sobre el total: {df[col].count()} / {len(df)}\")\n",
    "    print(f\"Valores ausentes: {df[col].isna().sum()}\")\n",
    "    print(f\"Valores mal registrados o erróneos: {df[col].isna().sum() + df[col].isnull().sum()}\")\n",
    "    print(\"\")"
   ]
  },
  {
   "cell_type": "markdown",
   "id": "4422be3e",
   "metadata": {},
   "source": [
    "# ·        Análisis de otras variables"
   ]
  },
  {
   "cell_type": "code",
   "execution_count": null,
   "id": "97e6e11f",
   "metadata": {},
   "outputs": [],
   "source": [
    "other_cols = df.columns.difference(numeric_cols).difference(categorical_cols)\n",
    "\n",
    "for col in other_cols:\n",
    "    print(f\"Análisis de la columna: {col}\")\n",
    "    print(f\"Valores válidos sobre el total: {df[col].count()} / {len(df)}\")\n",
    "    print(f\"Valores ausentes: {df[col].isna().sum()}\")\n",
    "    print(f\"Valores mal registrados o erróneos: {df[col].isna().sum() + df[col].isnull().sum()}\")\n",
    "    print(\"\")"
   ]
  }
 ],
 "metadata": {
  "kernelspec": {
   "display_name": "Python 3",
   "language": "python",
   "name": "python3"
  },
  "language_info": {
   "codemirror_mode": {
    "name": "ipython",
    "version": 3
   },
   "file_extension": ".py",
   "mimetype": "text/x-python",
   "name": "python",
   "nbconvert_exporter": "python",
   "pygments_lexer": "ipython3",
   "version": "3.13.0"
  }
 },
 "nbformat": 4,
 "nbformat_minor": 5
}
