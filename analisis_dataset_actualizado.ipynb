{
 "cells": [
  {
   "cell_type": "markdown",
   "id": "92901651",
   "metadata": {},
   "source": [
    "# Análisis de Datos de Ventas\n",
    "\n",
    "## · Importar los datos"
   ]
  },
  {
   "cell_type": "code",
   "execution_count": 9,
   "id": "3791fbe6",
   "metadata": {},
   "outputs": [],
   "source": [
    "import pandas as pd\n",
    "\n",
    "# Importar los datos\n",
    "df = pd.read_csv('./Datos/American Things - Base de Datos.csv', encoding='latin-1')\n",
    "\n",
    "\n",
    "\n",
    "### datos dumplicados, aplica a numeros de factura, que deben ser unicos para la empresa"
   ]
  },
  {
   "cell_type": "markdown",
   "id": "5e30b286",
   "metadata": {},
   "source": [
    "# LIMPIEZA DE DATOS"
   ]
  },
  {
   "cell_type": "markdown",
   "id": "c59cb028",
   "metadata": {},
   "source": [
    "## Datos con formato incorrecto y datos ausentes\n",
    "### Formatea las columnas \"Costo\", \"Ventas\", \"Resenia\" a formato numérico, reemplazando los datos incorrectos por valores nulos(Nan) y posteriormente se reemplazan los valores nulos por la Media de cada columna"
   ]
  },
  {
   "cell_type": "code",
   "execution_count": null,
   "id": "8616fd55",
   "metadata": {},
   "outputs": [],
   "source": [
    "# Convierte los str formato numero y los errores en NaN\n",
    "df['Costo'] = pd.to_numeric(df['Costo'], errors='coerce')\n",
    "df['Ventas'] = pd.to_numeric(df['Ventas'], errors='coerce')\n",
    "df['Resenia'] = pd.to_numeric(df['Resenia'], errors='coerce')\n",
    "\n",
    "# Reemplaza los valores nulos(NaN) por la media de la columna\n",
    "df['Costo'] = df['Costo'].fillna(df['Costo'].mean())\n",
    "df['Ventas'] = df['Ventas'].fillna(df['Ventas'].mean())\n",
    "df['Resenia'] = df['Resenia'].fillna(df['Resenia'].mean())"
   ]
  },
  {
   "cell_type": "markdown",
   "id": "484c309e",
   "metadata": {},
   "source": [
    "## Datos duplicados\n",
    "### Borra el o los registros duplicados en la columna \"Factura\""
   ]
  },
  {
   "cell_type": "code",
   "execution_count": 11,
   "id": "4e319a59",
   "metadata": {},
   "outputs": [],
   "source": [
    "# Eliminar duplicados considerando solo la columna 'Factura'\n",
    "df = df.drop_duplicates(subset=['Factura'])"
   ]
  },
  {
   "cell_type": "markdown",
   "id": "0f193dd6",
   "metadata": {},
   "source": [
    "## Datos erroneos\n",
    "### Se modifican los valores erroneos en las columnas \"Fecha\" y \"Resenia\""
   ]
  },
  {
   "cell_type": "code",
   "execution_count": null,
   "id": "6351e156",
   "metadata": {},
   "outputs": [],
   "source": [
    "# Convierte los valores a formato FECHA y los errores en NaN\n",
    "df['Fecha'] = pd.to_datetime(df['Fecha'], errors='coerce')\n",
    "\n",
    "# Reemplaza los valores nulos(NaN) por el último valor no nulo\n",
    "df['Fecha'] = df['Fecha'].ffill()\n",
    "\n",
    "# Controla si el valor de las reseñas está entre 1 y 10, de lo contrario se reemplaza el valor por la media de la columna 'Resenia'\n",
    "for i in df.index:\n",
    "    if df.loc[i, 'Resenia'] < 1 or df.loc[i, 'Resenia'] > 10:\n",
    "        df.loc[i, 'Resenia'] = df['Resenia'].mean()"
   ]
  },
  {
   "cell_type": "markdown",
   "id": "120a6e2b",
   "metadata": {},
   "source": [
    "## · Imprimir los primeros diez registros"
   ]
  },
  {
   "cell_type": "code",
   "execution_count": 16,
   "id": "4614a920",
   "metadata": {},
   "outputs": [
    {
     "name": "stdout",
     "output_type": "stream",
     "text": [
      "       Factura Sucursal      Ciudad    Tipo  Genero               Categoria  \\\n",
      "0  750-67-8428        A  Nueva York  Member  Female       Health and beauty   \n",
      "1  226-31-3081        C     Houston  Normal  Female  Electronic accessories   \n",
      "2  631-41-3108        A  Nueva York  Normal    Male      Home and lifestyle   \n",
      "3  123-19-1176        A  Nueva York  Member    Male       Health and beauty   \n",
      "4  373-73-7910        A       Green  Normal    Male       Sports and travel   \n",
      "5  699-14-3026        C     Houston  Normal    Male  Electronic accessories   \n",
      "6  355-53-5943        A  Nueva York  Member  Female  Electronic accessories   \n",
      "7  315-22-5665        C         N/N  Normal  Female      Home and lifestyle   \n",
      "8  665-32-9167        A  Nueva York  Member  Female       Health and beauty   \n",
      "9  692-92-5582        B     Chicago  Member  Female                  Female   \n",
      "\n",
      "          Costo  Ventas      Fecha   Hora Metodo de Pago   Resenia  \n",
      "0     522.83000  548.97 2019-01-05  13:08        Ewallet  6.996456  \n",
      "1      76.40000   80.22 2019-03-08  10:29           Cash  9.600000  \n",
      "2     324.31000  340.53 2019-01-27  13:23    Credit card  7.400000  \n",
      "3     465.76000  489.05 2019-01-27  20:33        Ewallet  8.400000  \n",
      "4     604.17000  634.38 2019-02-08  10:37     Nueva York  5.300000  \n",
      "5     597.73000  627.62 2019-03-25  18:30        Ewallet  4.100000  \n",
      "6     413.04000  433.69 2019-02-25  14:36        Ewallet  5.800000  \n",
      "7     735.60000  772.38 2019-02-24  11:38        Ewallet  8.000000  \n",
      "8      72.52000   76.15 2019-01-10  17:15    Credit card  7.200000  \n",
      "9  325040.90776  172.75 2019-02-20  13:27    Credit card  5.900000  \n"
     ]
    }
   ],
   "source": [
    "print(df.head(10))"
   ]
  },
  {
   "cell_type": "markdown",
   "id": "13d04037",
   "metadata": {},
   "source": [
    "## ·        Describir el dataset"
   ]
  },
  {
   "cell_type": "code",
   "execution_count": null,
   "id": "ffc65f88",
   "metadata": {},
   "outputs": [
    {
     "name": "stdout",
     "output_type": "stream",
     "text": [
      "            Factura Sucursal      Ciudad    Tipo Genero           Categoria  \\\n",
      "count           394      389         384     387    391                 378   \n",
      "unique          394       15          15      10     10                  22   \n",
      "top     831-64-0259        A  Nueva York  Normal   Male  Home and lifestyle   \n",
      "freq              1      135         131     196    195                  65   \n",
      "mean            NaN      NaN         NaN     NaN    NaN                 NaN   \n",
      "min             NaN      NaN         NaN     NaN    NaN                 NaN   \n",
      "25%             NaN      NaN         NaN     NaN    NaN                 NaN   \n",
      "50%             NaN      NaN         NaN     NaN    NaN                 NaN   \n",
      "75%             NaN      NaN         NaN     NaN    NaN                 NaN   \n",
      "max             NaN      NaN         NaN     NaN    NaN                 NaN   \n",
      "std             NaN      NaN         NaN     NaN    NaN                 NaN   \n",
      "\n",
      "               Costo        Ventas                          Fecha   Hora  \\\n",
      "count   3.950000e+02  3.950000e+02                            395    387   \n",
      "unique           NaN           NaN                            NaN    300   \n",
      "top              NaN           NaN                            NaN  10:25   \n",
      "freq             NaN           NaN                            NaN      4   \n",
      "mean    3.307942e+05  5.374686e+04  2019-02-27 21:05:00.759493888    NaN   \n",
      "min     0.000000e+00  1.317000e+01            2019-01-01 00:00:00    NaN   \n",
      "25%     1.396550e+02  1.459050e+02            2019-01-26 00:00:00    NaN   \n",
      "50%     2.806200e+02  2.841900e+02            2019-02-17 00:00:00    NaN   \n",
      "75%     4.986750e+02  5.085450e+02            2019-03-09 12:00:00    NaN   \n",
      "max     1.234535e+08  2.000000e+07            2026-03-24 00:00:00    NaN   \n",
      "std     6.211371e+06  1.006531e+06                            NaN    NaN   \n",
      "\n",
      "       Metodo de Pago     Resenia  \n",
      "count             392  395.000000  \n",
      "unique              7         NaN  \n",
      "top              Cash         NaN  \n",
      "freq              148         NaN  \n",
      "mean              NaN    7.009042  \n",
      "min               NaN    4.000000  \n",
      "25%               NaN    5.600000  \n",
      "50%               NaN    6.996456  \n",
      "75%               NaN    8.400000  \n",
      "max               NaN   10.000000  \n",
      "std               NaN    1.711522  \n",
      "330794.24903718353\n",
      "280.62\n"
     ]
    }
   ],
   "source": [
    "print(df.describe(include='all'))"
   ]
  },
  {
   "cell_type": "markdown",
   "id": "38b79926",
   "metadata": {},
   "source": [
    "## ·        Análisis de columnas numéricas"
   ]
  },
  {
   "cell_type": "code",
   "execution_count": 19,
   "id": "e4769e4d",
   "metadata": {},
   "outputs": [
    {
     "name": "stdout",
     "output_type": "stream",
     "text": [
      "Análisis de la columna numérica: Costo\n",
      "Valores válidos sobre el total: 395 / 395\n",
      "Media: 330794.25\n",
      "Mediana: 280.62\n",
      "Desviación estándar: 6211371.47\n",
      "Valores ausentes: 0\n",
      "Valores mal registrados o erróneos: 0\n",
      "\n",
      "Análisis de la columna numérica: Ventas\n",
      "Valores válidos sobre el total: 395 / 395\n",
      "Media: 53746.86\n",
      "Mediana: 284.19\n",
      "Desviación estándar: 1006531.28\n",
      "Valores ausentes: 0\n",
      "Valores mal registrados o erróneos: 0\n",
      "\n",
      "Análisis de la columna numérica: Resenia\n",
      "Valores válidos sobre el total: 395 / 395\n",
      "Media: 7.01\n",
      "Mediana: 7.0\n",
      "Desviación estándar: 1.71\n",
      "Valores ausentes: 0\n",
      "Valores mal registrados o erróneos: 0\n",
      "\n"
     ]
    }
   ],
   "source": [
    "numeric_cols = df.select_dtypes(include=['number']).columns\n",
    "\n",
    "for col in numeric_cols:\n",
    "    print(f\"Análisis de la columna numérica: {col}\")\n",
    "    print(f\"Valores válidos sobre el total: {df[col].count()} / {len(df)}\")\n",
    "    print(f\"Media: {round(df[col].mean(), 2)}\")\n",
    "    print(f\"Mediana: {round(df[col].median(), 2)}\")\n",
    "    print(f\"Desviación estándar: {round(df[col].std(), 2)}\")\n",
    "    print(f\"Valores ausentes: {df[col].isna().sum()}\")\n",
    "    print(f\"Valores mal registrados o erróneos: {df[col].isna().sum() + df[col].isnull().sum()}\")\n",
    "    print(\"\")"
   ]
  },
  {
   "cell_type": "markdown",
   "id": "ad783e8b",
   "metadata": {},
   "source": [
    "## ·        Análisis de columnas categóricas"
   ]
  },
  {
   "cell_type": "code",
   "execution_count": null,
   "id": "96c20dcb",
   "metadata": {},
   "outputs": [],
   "source": [
    "categorical_cols = df.select_dtypes(include=['object']).columns\n",
    "\n",
    "for col in categorical_cols:\n",
    "    print(f\"Análisis de la columna categórica: {col}\")\n",
    "    print(df[col].value_counts())\n",
    "    print(f\"Registros válidos sobre el total: {df[col].count()} / {len(df)}\")\n",
    "    print(f\"Valores ausentes: {df[col].isna().sum()}\")\n",
    "    print(f\"Valores mal registrados o erróneos: {df[col].isna().sum() + df[col].isnull().sum()}\")\n",
    "    print(\"\")"
   ]
  },
  {
   "cell_type": "markdown",
   "id": "4422be3e",
   "metadata": {},
   "source": [
    "## ·        Análisis de otras variables"
   ]
  },
  {
   "cell_type": "code",
   "execution_count": null,
   "id": "97e6e11f",
   "metadata": {},
   "outputs": [],
   "source": [
    "other_cols = df.columns.difference(numeric_cols).difference(categorical_cols)\n",
    "\n",
    "for col in other_cols:\n",
    "    print(f\"Análisis de la columna: {col}\")\n",
    "    print(f\"Valores válidos sobre el total: {df[col].count()} / {len(df)}\")\n",
    "    print(f\"Valores ausentes: {df[col].isna().sum()}\")\n",
    "    print(f\"Valores mal registrados o erróneos: {df[col].isna().sum() + df[col].isnull().sum()}\")\n",
    "    print(\"\")"
   ]
  }
 ],
 "metadata": {
  "kernelspec": {
   "display_name": "Python 3",
   "language": "python",
   "name": "python3"
  },
  "language_info": {
   "codemirror_mode": {
    "name": "ipython",
    "version": 3
   },
   "file_extension": ".py",
   "mimetype": "text/x-python",
   "name": "python",
   "nbconvert_exporter": "python",
   "pygments_lexer": "ipython3",
   "version": "3.13.0"
  }
 },
 "nbformat": 4,
 "nbformat_minor": 5
}
