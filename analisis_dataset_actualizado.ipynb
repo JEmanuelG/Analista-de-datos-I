{
 "cells": [
  {
   "cell_type": "markdown",
   "id": "92901651",
   "metadata": {},
   "source": [
    "# Análisis de Datos de Ventas\n",
    "\n",
    "## · Importar los datos"
   ]
  },
  {
   "cell_type": "code",
   "execution_count": 1,
   "id": "3791fbe6",
   "metadata": {},
   "outputs": [],
   "source": [
    "import pandas as pd\n",
    "import matplotlib.pyplot as plt\n",
    "\n",
    "# Importar los datos\n",
    "df = pd.read_csv('./Datos/American Things - Base de Datos.csv', encoding='latin-1')"
   ]
  },
  {
   "cell_type": "markdown",
   "id": "5e30b286",
   "metadata": {},
   "source": [
    "# LIMPIEZA DE DATOS"
   ]
  },
  {
   "cell_type": "markdown",
   "id": "c59cb028",
   "metadata": {},
   "source": [
    "## Datos con formato incorrecto y datos ausentes\n",
    "### Formatea las columnas \"Costo\", \"Ventas\" y \"Resenia\" a formato numérico, reemplazando los datos incorrectos por valores nulos(Nan) y posteriormente se reemplazan los valores nulos por la Media de cada columna"
   ]
  },
  {
   "cell_type": "code",
   "execution_count": 2,
   "id": "8616fd55",
   "metadata": {},
   "outputs": [],
   "source": [
    "# Convierte los str formato numero y los errores en NaN\n",
    "df['Costo'] = pd.to_numeric(df['Costo'], errors='coerce')\n",
    "df['Ventas'] = pd.to_numeric(df['Ventas'], errors='coerce')\n",
    "df['Resenia'] = pd.to_numeric(df['Resenia'], errors='coerce')\n",
    "\n",
    "# Reemplaza los valores nulos(NaN) por la media de la columna\n",
    "df['Costo'] = df['Costo'].fillna(df['Costo'].mean())\n",
    "df['Ventas'] = df['Ventas'].fillna(df['Ventas'].mean())\n",
    "df['Resenia'] = df['Resenia'].fillna(df['Resenia'].mean())"
   ]
  },
  {
   "cell_type": "markdown",
   "id": "484c309e",
   "metadata": {},
   "source": [
    "## Datos duplicados\n",
    "### Borra el o los registros duplicados en la columna \"Factura\""
   ]
  },
  {
   "cell_type": "code",
   "execution_count": 3,
   "id": "4e319a59",
   "metadata": {},
   "outputs": [],
   "source": [
    "# Eliminar duplicados considerando solo la columna 'Factura'\n",
    "df = df.drop_duplicates(subset=['Factura'])"
   ]
  },
  {
   "cell_type": "markdown",
   "id": "0f193dd6",
   "metadata": {},
   "source": [
    "## Datos erroneos\n",
    "### Se modifican los valores erroneos en las columnas"
   ]
  },
  {
   "cell_type": "code",
   "execution_count": 4,
   "id": "6351e156",
   "metadata": {},
   "outputs": [
    {
     "name": "stdout",
     "output_type": "stream",
     "text": [
      "El registro ya no existe\n",
      "El registro ya no existe\n",
      "El registro ya no existe\n",
      "El registro ya no existe\n",
      "El registro ya no existe\n",
      "El registro ya no existe\n",
      "El registro ya no existe\n",
      "El registro ya no existe\n",
      "El registro ya no existe\n",
      "El registro ya no existe\n",
      "El registro ya no existe\n",
      "El registro ya no existe\n",
      "El registro ya no existe\n",
      "El registro ya no existe\n",
      "El registro ya no existe\n",
      "El registro ya no existe\n",
      "El registro ya no existe\n",
      "El registro ya no existe\n",
      "El registro ya no existe\n"
     ]
    }
   ],
   "source": [
    "# Convierte los valores a formato FECHA y los errores en NaN\n",
    "df['Fecha'] = pd.to_datetime(df['Fecha'], errors='coerce')\n",
    "\n",
    "# Reemplaza los valores nulos(NaN) por el último valor no nulo\n",
    "df['Fecha'] = df['Fecha'].ffill()\n",
    "\n",
    "\n",
    "for i in df.index:\n",
    "\n",
    "    # Controla si el valor de las reseñas está entre 1 y 10, de lo contrario se reemplaza el valor por la media de la columna 'Resenia'\n",
    "    if df.loc[i, 'Resenia'] < 1 or df.loc[i, 'Resenia'] > 10:\n",
    "        df.loc[i, 'Resenia'] = df['Resenia'].mean()\n",
    "\n",
    "    # Controla si el valor la columna \"Tipo\" es \"Normal\" o \"Member\", de lo contrario se reemplaza el valor por \"Normal\"\n",
    "    if df.loc[i, \"Tipo\"] not in (\"Normal\",\"Member\"):\n",
    "        df.loc[i, \"Tipo\"] = \"Normal\"\n",
    "\n",
    "    # Controla si el valor la columna \"Costo\" y \"Ventas\" es 0 < valor < 5000, de lo contrario se reemplaza por la mediana de cada columna\n",
    "    if df.loc[i, \"Costo\"] <= 0 or df.loc[i, \"Costo\"] > 5000:\n",
    "        df.loc[i, \"Costo\"] = df[\"Costo\"].median()\n",
    "\n",
    "    if df.loc[i, \"Ventas\"] <= 0 or df.loc[i, \"Ventas\"] > 5000:\n",
    "        df.loc[i, \"Ventas\"] = df[\"Ventas\"].median()\n",
    "\n",
    "    try:\n",
    "        # Controla si el valor la columna \"Sucursal\" está en las opciones \"A\",\"B\", \"C\", de lo contrario elimina el registro completo\n",
    "        if df.loc[i, \"Sucursal\"] not in (\"A\",\"B\", \"C\"):\n",
    "            df = df.drop(i)\n",
    "\n",
    "        if df.loc[i, \"Ciudad\"] not in (\"Chicago\",\"Houston\", \"Nueva York\"):\n",
    "            df = df.drop(i)\n",
    "    except:\n",
    "        print(\"El registro ya no existe\")\n",
    "   "
   ]
  },
  {
   "cell_type": "markdown",
   "id": "120a6e2b",
   "metadata": {},
   "source": [
    "## · Imprimir los primeros diez registros"
   ]
  },
  {
   "cell_type": "code",
   "execution_count": 5,
   "id": "4614a920",
   "metadata": {},
   "outputs": [
    {
     "name": "stdout",
     "output_type": "stream",
     "text": [
      "        Factura Sucursal      Ciudad    Tipo  Genero               Categoria  \\\n",
      "0   750-67-8428        A  Nueva York  Member  Female       Health and beauty   \n",
      "1   226-31-3081        C     Houston  Normal  Female  Electronic accessories   \n",
      "2   631-41-3108        A  Nueva York  Normal    Male      Home and lifestyle   \n",
      "3   123-19-1176        A  Nueva York  Member    Male       Health and beauty   \n",
      "5   699-14-3026        C     Houston  Normal    Male  Electronic accessories   \n",
      "6   355-53-5943        A  Nueva York  Member  Female  Electronic accessories   \n",
      "8   665-32-9167        A  Nueva York  Member  Female       Health and beauty   \n",
      "9   692-92-5582        B     Chicago  Member  Female                  Female   \n",
      "10  351-62-0822        B     Chicago  Member  Female     Fashion accessories   \n",
      "11  529-56-3974        B     Chicago  Member    Male  Electronic accessories   \n",
      "\n",
      "     Costo  Ventas      Fecha   Hora Metodo de Pago   Resenia  \n",
      "0   522.83  548.97 2019-01-05  13:08        Ewallet  6.996456  \n",
      "1    76.40   80.22 2019-03-08  10:29           Cash  9.600000  \n",
      "2   324.31  340.53 2019-03-08  13:23    Credit card  7.400000  \n",
      "3   465.76  489.05 2019-01-27  20:33        Ewallet  8.400000  \n",
      "5   597.73  627.62 2019-03-25  18:30        Ewallet  4.100000  \n",
      "6   413.04  433.69 2019-02-25  14:36        Ewallet  5.800000  \n",
      "8    72.52   76.15 2019-01-10  17:15    Credit card  7.200000  \n",
      "9   279.24  172.75 2019-02-20  13:27    Credit card  5.900000  \n",
      "10   57.92   60.82 2019-02-06  18:07        Ewallet  4.500000  \n",
      "11  102.04  107.14 2019-03-09  17:03           Cash  6.800000  \n"
     ]
    }
   ],
   "source": [
    "print(df.head(10))"
   ]
  },
  {
   "cell_type": "markdown",
   "id": "13d04037",
   "metadata": {},
   "source": [
    "## ·        Describir el dataset\n",
    "### Se comenta la descripción total del DataFrame y se describe solo las variables que necesitamos"
   ]
  },
  {
   "cell_type": "code",
   "execution_count": 6,
   "id": "ffc65f88",
   "metadata": {},
   "outputs": [
    {
     "name": "stdout",
     "output_type": "stream",
     "text": [
      "\n",
      "=== ESTADÍSTICAS DESCRIPTIVAS ===\n",
      "\n",
      "Variables numéricas:\n",
      "            Costo      Ventas     Resenia\n",
      "count  352.000000  352.000000  352.000000\n",
      "mean   311.945455  321.293338    7.002760\n",
      "std    220.300954  226.377510    1.716135\n",
      "min      2.000000   13.170000    4.000000\n",
      "25%    143.940000  146.795000    5.600000\n",
      "50%    277.340000  272.660000    6.996456\n",
      "75%    434.835000  461.550000    8.425000\n",
      "max    993.000000  944.620000   10.000000\n",
      "\n",
      "Variables categóricas:\n",
      "       Sucursal      Ciudad    Tipo Genero           Categoria Metodo de Pago\n",
      "count       352         352     352    349                 338            349\n",
      "unique        3           3       2     10                  22              6\n",
      "top           A  Nueva York  Normal   Male  Home and lifestyle           Cash\n",
      "freq        128         128     191    175                  60            136\n",
      "\n",
      "=== SIMETRÍA DE VARIABLES NUMÉRICAS ===\n",
      "Costo:\n",
      "  Asimetría: 0.95\n",
      "  Distribución moderadamente asimétrica\n",
      "Ventas:\n",
      "  Asimetría: 0.85\n",
      "  Distribución moderadamente asimétrica\n",
      "Resenia:\n",
      "  Asimetría: 0.04\n",
      "  Distribución aproximadamente simétrica\n"
     ]
    }
   ],
   "source": [
    "#print(df.describe(include='all'))\n",
    "\n",
    "print(\"\\n=== ESTADÍSTICAS DESCRIPTIVAS ===\")\n",
    "print(\"\\nVariables numéricas:\")\n",
    "print(df[['Costo', 'Ventas', 'Resenia']].describe())\n",
    "\n",
    "print(\"\\nVariables categóricas:\")\n",
    "print(df[['Sucursal', 'Ciudad', 'Tipo', 'Genero', 'Categoria', 'Metodo de Pago']].describe(include='object'))\n",
    "\n",
    "# Análisis de simetría\n",
    "print(\"\\n=== SIMETRÍA DE VARIABLES NUMÉRICAS ===\")\n",
    "numeric_cols = ['Costo', 'Ventas', 'Resenia']\n",
    "for col in numeric_cols:\n",
    "    skewness = df[col].skew()  # Intenta calcular asimetría en una columna de texto\n",
    "    print(f\"{col}:\")\n",
    "    print(f\"  Asimetría: {skewness:.2f}\")\n",
    "    if abs(skewness) < 0.5:\n",
    "        print(\"  Distribución aproximadamente simétrica\")\n",
    "    elif 0.5 <= abs(skewness) < 1:\n",
    "        print(\"  Distribución moderadamente asimétrica\")\n",
    "    else:\n",
    "        print(\"  Distribución altamente asimétrica\")"
   ]
  },
  {
   "cell_type": "markdown",
   "id": "38b79926",
   "metadata": {},
   "source": [
    "## ·        Análisis de columnas numéricas"
   ]
  },
  {
   "cell_type": "code",
   "execution_count": 7,
   "id": "e4769e4d",
   "metadata": {},
   "outputs": [
    {
     "name": "stdout",
     "output_type": "stream",
     "text": [
      "Análisis de la columna numérica: Costo\n",
      "Valores válidos sobre el total: 352 / 352\n",
      "Media: 311.95\n",
      "Mediana: 277.34\n",
      "Desviación estándar: 220.3\n",
      "Valores ausentes: 0\n",
      "Valores mal registrados o erróneos: 0\n",
      "\n",
      "Análisis de la columna numérica: Ventas\n",
      "Valores válidos sobre el total: 352 / 352\n",
      "Media: 321.29\n",
      "Mediana: 272.66\n",
      "Desviación estándar: 226.38\n",
      "Valores ausentes: 0\n",
      "Valores mal registrados o erróneos: 0\n",
      "\n",
      "Análisis de la columna numérica: Resenia\n",
      "Valores válidos sobre el total: 352 / 352\n",
      "Media: 7.0\n",
      "Mediana: 7.0\n",
      "Desviación estándar: 1.72\n",
      "Valores ausentes: 0\n",
      "Valores mal registrados o erróneos: 0\n",
      "\n"
     ]
    }
   ],
   "source": [
    "numeric_cols = df.select_dtypes(include=['number']).columns\n",
    "\n",
    "for col in numeric_cols:\n",
    "    print(f\"Análisis de la columna numérica: {col}\")\n",
    "    print(f\"Valores válidos sobre el total: {df[col].count()} / {len(df)}\")\n",
    "    print(f\"Media: {round(df[col].mean(), 2)}\")\n",
    "    print(f\"Mediana: {round(df[col].median(), 2)}\")\n",
    "    print(f\"Desviación estándar: {round(df[col].std(), 2)}\")\n",
    "    print(f\"Valores ausentes: {df[col].isna().sum()}\")\n",
    "    print(f\"Valores mal registrados o erróneos: {df[col].isna().sum() + df[col].isnull().sum()}\")\n",
    "    print(\"\")"
   ]
  },
  {
   "cell_type": "markdown",
   "id": "ad783e8b",
   "metadata": {},
   "source": [
    "## ·        Análisis de columnas categóricas"
   ]
  },
  {
   "cell_type": "code",
   "execution_count": 8,
   "id": "96c20dcb",
   "metadata": {},
   "outputs": [
    {
     "name": "stdout",
     "output_type": "stream",
     "text": [
      "Análisis de la columna categórica: Factura\n",
      "Factura\n",
      "750-67-8428    1\n",
      "808-65-0703    1\n",
      "566-19-5475    1\n",
      "633-91-1052    1\n",
      "126-54-1082    1\n",
      "              ..\n",
      "239-10-7476    1\n",
      "488-25-4221    1\n",
      "338-65-2210    1\n",
      "casa           1\n",
      "831-64-0259    1\n",
      "Name: count, Length: 351, dtype: int64\n",
      "Registros válidos sobre el total: 351 / 352\n",
      "Valores ausentes: 1\n",
      "Valores mal registrados o erróneos: 2\n",
      "\n",
      "Análisis de la columna categórica: Sucursal\n",
      "Sucursal\n",
      "A    128\n",
      "C    118\n",
      "B    106\n",
      "Name: count, dtype: int64\n",
      "Registros válidos sobre el total: 352 / 352\n",
      "Valores ausentes: 0\n",
      "Valores mal registrados o erróneos: 0\n",
      "\n",
      "Análisis de la columna categórica: Ciudad\n",
      "Ciudad\n",
      "Nueva York    128\n",
      "Houston       118\n",
      "Chicago       106\n",
      "Name: count, dtype: int64\n",
      "Registros válidos sobre el total: 352 / 352\n",
      "Valores ausentes: 0\n",
      "Valores mal registrados o erróneos: 0\n",
      "\n",
      "Análisis de la columna categórica: Tipo\n",
      "Tipo\n",
      "Normal    191\n",
      "Member    161\n",
      "Name: count, dtype: int64\n",
      "Registros válidos sobre el total: 352 / 352\n",
      "Valores ausentes: 0\n",
      "Valores mal registrados o erróneos: 0\n",
      "\n",
      "Análisis de la columna categórica: Genero\n",
      "Genero\n",
      "Male            175\n",
      "Female          165\n",
      "Normal            2\n",
      "102.3             1\n",
      "193.01            1\n",
      "Malo              1\n",
      "Noraml            1\n",
      "Member            1\n",
      "FemaleMember      1\n",
      "2/14/2019         1\n",
      "Name: count, dtype: int64\n",
      "Registros válidos sobre el total: 349 / 352\n",
      "Valores ausentes: 3\n",
      "Valores mal registrados o erróneos: 6\n",
      "\n",
      "Análisis de la columna categórica: Categoria\n",
      "Categoria\n",
      "Home and lifestyle        60\n",
      "Food and beverages        56\n",
      "Electronic accessories    56\n",
      "Health and beauty         53\n",
      "Fashion accessories       52\n",
      "Sports and travel         42\n",
      "Female                     2\n",
      "N/N                        2\n",
      "2/14/2019                  2\n",
      "Food Lifestyle586          1\n",
      "Ewallet                    1\n",
      "66232                      1\n",
      "Male555                    1\n",
      "5666332                    1\n",
      "C                          1\n",
      "394-55-2444                1\n",
      "5555556                    1\n",
      "35897155                   1\n",
      "Carlos Paz                 1\n",
      "722.33                     1\n",
      "Blue                       1\n",
      "55%                        1\n",
      "Name: count, dtype: int64\n",
      "Registros válidos sobre el total: 338 / 352\n",
      "Valores ausentes: 14\n",
      "Valores mal registrados o erróneos: 28\n",
      "\n",
      "Análisis de la columna categórica: Hora\n",
      "Hora\n",
      "19:39    3\n",
      "14:16    3\n",
      "10:55    3\n",
      "12:46    3\n",
      "16:24    3\n",
      "        ..\n",
      "11:56    1\n",
      "19:40    1\n",
      "14:43    1\n",
      "19:18    1\n",
      "13:38    1\n",
      "Name: count, Length: 272, dtype: int64\n",
      "Registros válidos sobre el total: 344 / 352\n",
      "Valores ausentes: 8\n",
      "Valores mal registrados o erróneos: 16\n",
      "\n",
      "Análisis de la columna categórica: Metodo de Pago\n",
      "Metodo de Pago\n",
      "Cash           136\n",
      "Ewallet        105\n",
      "Credit card    104\n",
      "3/18/2019        2\n",
      "Miembro          1\n",
      "112.22           1\n",
      "Name: count, dtype: int64\n",
      "Registros válidos sobre el total: 349 / 352\n",
      "Valores ausentes: 3\n",
      "Valores mal registrados o erróneos: 6\n",
      "\n"
     ]
    }
   ],
   "source": [
    "categorical_cols = df.select_dtypes(include=['object']).columns\n",
    "\n",
    "for col in categorical_cols:\n",
    "    print(f\"Análisis de la columna categórica: {col}\")\n",
    "    print(df[col].value_counts())\n",
    "    print(f\"Registros válidos sobre el total: {df[col].count()} / {len(df)}\")\n",
    "    print(f\"Valores ausentes: {df[col].isna().sum()}\")\n",
    "    print(f\"Valores mal registrados o erróneos: {df[col].isna().sum() + df[col].isnull().sum()}\")\n",
    "    print(\"\")"
   ]
  },
  {
   "cell_type": "markdown",
   "id": "4422be3e",
   "metadata": {},
   "source": [
    "## ·        Análisis de otras variables"
   ]
  },
  {
   "cell_type": "code",
   "execution_count": 9,
   "id": "97e6e11f",
   "metadata": {},
   "outputs": [
    {
     "name": "stdout",
     "output_type": "stream",
     "text": [
      "Análisis de la columna: Fecha\n",
      "Valores válidos sobre el total: 352 / 352\n",
      "Valores ausentes: 0\n",
      "Valores mal registrados o erróneos: 0\n",
      "\n"
     ]
    }
   ],
   "source": [
    "other_cols = df.columns.difference(numeric_cols).difference(categorical_cols)\n",
    "\n",
    "for col in other_cols:\n",
    "    print(f\"Análisis de la columna: {col}\")\n",
    "    print(f\"Valores válidos sobre el total: {df[col].count()} / {len(df)}\")\n",
    "    print(f\"Valores ausentes: {df[col].isna().sum()}\")\n",
    "    print(f\"Valores mal registrados o erróneos: {df[col].isna().sum() + df[col].isnull().sum()}\")\n",
    "    print(\"\")"
   ]
  },
  {
   "cell_type": "markdown",
   "id": "5a14612c",
   "metadata": {},
   "source": [
    "# GRÁFICOS "
   ]
  },
  {
   "cell_type": "markdown",
   "id": "3377ad44",
   "metadata": {},
   "source": [
    "## Gráfico de cantidad de Ventas por Ciudad"
   ]
  },
  {
   "cell_type": "code",
   "execution_count": 16,
   "id": "da51c364",
   "metadata": {},
   "outputs": [
    {
     "data": {
      "image/png": "[encoded data removed]",
      "text/plain": [
       "<Figure size 640x480 with 1 Axes>"
      ]
     },
     "metadata": {},
     "output_type": "display_data"
    }
   ],
   "source": [
    "\n",
    "vta_ciudad = pd.DataFrame(df[\"Ciudad\"].value_counts())\n",
    "\n",
    "\n",
    "plt.bar(vta_ciudad.index, vta_ciudad[\"count\"])\n",
    "plt.show()\n"
   ]
  },
  {
   "cell_type": "markdown",
   "id": "575d1ac3",
   "metadata": {},
   "source": [
    "## Gráfico de porcentajes de clientes que son miembros y de los que no son miembros.\n",
    "### Tienen el propósito de analizar la cantidad de clientes que se registran en la base de datos y fomentar la registración de dichos clientes para obtener mas metadatos y ofrecerles ofertas personalizadas."
   ]
  },
  {
   "cell_type": "code",
   "execution_count": 15,
   "id": "ffcdfe5f",
   "metadata": {},
   "outputs": [
    {
     "data": {
      "image/png": "[encoded data removed]",
      "text/plain": [
       "<Figure size 640x480 with 1 Axes>"
      ]
     },
     "metadata": {},
     "output_type": "display_data"
    }
   ],
   "source": [
    "# Genera un grafico de torta para representar porcentajes de tipos de clientes\n",
    "plt.pie(df['Tipo'].value_counts(), labels = df['Tipo'].value_counts().index)\n",
    "plt.show()"
   ]
  },
  {
   "cell_type": "markdown",
   "id": "f9321d02",
   "metadata": {},
   "source": [
    "## Gráfico de las reseñas de las sucursales (Calificación)"
   ]
  },
  {
   "cell_type": "code",
   "execution_count": 12,
   "id": "ae795d9d",
   "metadata": {},
   "outputs": [
    {
     "data": {
      "image/png": "[encoded data removed]",
      "text/plain": [
       "<Figure size 640x480 with 1 Axes>"
      ]
     },
     "metadata": {},
     "output_type": "display_data"
    }
   ],
   "source": [
    "reseniasSucursal = pd.DataFrame(df['Resenia'].groupby(df['Sucursal']).mean())\n",
    "\n",
    "plt.bar(reseniasSucursal.index, reseniasSucursal[\"Resenia\"])\n",
    "plt.show()"
   ]
  },
  {
   "cell_type": "markdown",
   "id": "8feed061",
   "metadata": {},
   "source": [
    "## Gráfico de Ventas por categoría"
   ]
  },
  {
   "cell_type": "code",
   "execution_count": null,
   "id": "b73a15e9",
   "metadata": {},
   "outputs": [],
   "source": []
  }
 ],
 "metadata": {
  "kernelspec": {
   "display_name": "Python 3",
   "language": "python",
   "name": "python3"
  },
  "language_info": {
   "codemirror_mode": {
    "name": "ipython",
    "version": 3
   },
   "file_extension": ".py",
   "mimetype": "text/x-python",
   "name": "python",
   "nbconvert_exporter": "python",
   "pygments_lexer": "ipython3",
   "version": "3.13.0"
  }
 },
 "nbformat": 4,
 "nbformat_minor": 5
}
