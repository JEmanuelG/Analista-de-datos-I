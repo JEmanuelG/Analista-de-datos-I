{
 "cells": [
  {
   "cell_type": "markdown",
   "id": "92901651",
   "metadata": {},
   "source": [
    "# Análisis de Datos de Ventas\n",
    "\n",
    "## · Importar librerías y datos"
   ]
  },
  {
   "cell_type": "code",
   "execution_count": 53,
   "id": "3791fbe6",
   "metadata": {},
   "outputs": [],
   "source": [
    "import pandas as pd\n",
    "import matplotlib.pyplot as plt\n",
    "\n",
    "# Importar los datos\n",
    "df = pd.read_csv('./Datos/American Things - Base de Datos.csv', encoding='latin-1')"
   ]
  },
  {
   "cell_type": "markdown",
   "id": "5e30b286",
   "metadata": {},
   "source": [
    "# LIMPIEZA DE DATOS"
   ]
  },
  {
   "cell_type": "markdown",
   "id": "c59cb028",
   "metadata": {},
   "source": [
    "## Datos con formato incorrecto y datos ausentes\n",
    "### Formatea las columnas \"Costo\", \"Ventas\" y \"Resenia\" a formato numérico, reemplazando los datos incorrectos por valores nulos(Nan) y posteriormente se reemplazan los valores nulos por la Media de cada columna"
   ]
  },
  {
   "cell_type": "code",
   "execution_count": 54,
   "id": "8616fd55",
   "metadata": {},
   "outputs": [],
   "source": [
    "# Convierte los str formato numero y los errores en NaN\n",
    "df['Costo'] = pd.to_numeric(df['Costo'], errors='coerce')\n",
    "df['Ventas'] = pd.to_numeric(df['Ventas'], errors='coerce')\n",
    "df['Resenia'] = pd.to_numeric(df['Resenia'], errors='coerce')\n",
    "\n",
    "# Reemplaza los valores nulos(NaN) por la media de la columna\n",
    "df['Costo'] = df['Costo'].fillna(df['Costo'].mean())\n",
    "df['Ventas'] = df['Ventas'].fillna(df['Ventas'].mean())\n",
    "df['Resenia'] = df['Resenia'].fillna(df['Resenia'].mean())"
   ]
  },
  {
   "cell_type": "markdown",
   "id": "484c309e",
   "metadata": {},
   "source": [
    "## Datos duplicados\n",
    "### Borra el o los registros duplicados en la columna \"Factura\""
   ]
  },
  {
   "cell_type": "code",
   "execution_count": 55,
   "id": "4e319a59",
   "metadata": {},
   "outputs": [],
   "source": [
    "# Eliminar duplicados considerando solo la columna 'Factura'\n",
    "df = df.drop_duplicates(subset=['Factura'])"
   ]
  },
  {
   "cell_type": "markdown",
   "id": "0f193dd6",
   "metadata": {},
   "source": [
    "## Datos erroneos\n",
    "### Se modifican los valores erroneos en las columnas"
   ]
  },
  {
   "cell_type": "code",
   "execution_count": 56,
   "id": "6351e156",
   "metadata": {},
   "outputs": [
    {
     "name": "stdout",
     "output_type": "stream",
     "text": [
      "El registro ya no existe\n",
      "El registro ya no existe\n",
      "El registro ya no existe\n",
      "El registro ya no existe\n",
      "El registro ya no existe\n",
      "El registro ya no existe\n",
      "El registro ya no existe\n",
      "El registro ya no existe\n",
      "El registro ya no existe\n",
      "El registro ya no existe\n",
      "El registro ya no existe\n",
      "El registro ya no existe\n",
      "El registro ya no existe\n",
      "El registro ya no existe\n",
      "El registro ya no existe\n",
      "El registro ya no existe\n",
      "El registro ya no existe\n",
      "El registro ya no existe\n",
      "El registro ya no existe\n",
      "El registro ya no existe\n",
      "El registro ya no existe\n",
      "El registro ya no existe\n",
      "El registro ya no existe\n",
      "El registro ya no existe\n",
      "El registro ya no existe\n",
      "El registro ya no existe\n",
      "El registro ya no existe\n",
      "El registro ya no existe\n",
      "El registro ya no existe\n",
      "El registro ya no existe\n",
      "El registro ya no existe\n",
      "El registro ya no existe\n",
      "El registro ya no existe\n",
      "El registro ya no existe\n",
      "El registro ya no existe\n",
      "El registro ya no existe\n",
      "El registro ya no existe\n",
      "El registro ya no existe\n",
      "El registro ya no existe\n",
      "El registro ya no existe\n",
      "El registro ya no existe\n",
      "El registro ya no existe\n",
      "El registro ya no existe\n"
     ]
    }
   ],
   "source": [
    "# Se definen arreglos con opciones\n",
    "categorias = [\"Home and lifestyle\", \"Food and beverages\", \"Electronic accessories\", \"Health and beauty\", \"Fashion accessories\", \"Sports and travel\"]\n",
    "ciudades = [\"Chicago\",\"Houston\", \"Nueva York\"]\n",
    "sucursales = [\"A\",\"B\", \"C\"]\n",
    "\n",
    "# Convierte los valores a formato FECHA y los errores en NaN\n",
    "df['Fecha'] = pd.to_datetime(df['Fecha'], errors='coerce')\n",
    "\n",
    "# Reemplaza los valores nulos(NaN) por el último valor no nulo\n",
    "df['Fecha'] = df['Fecha'].ffill()\n",
    "\n",
    "\n",
    "for i in df.index:\n",
    "\n",
    "    # Controla si el valor de las reseñas está entre 1 y 10, de lo contrario se reemplaza el valor por la media de la columna 'Resenia'\n",
    "    if df.loc[i, 'Resenia'] < 1 or df.loc[i, 'Resenia'] > 10:\n",
    "        df.loc[i, 'Resenia'] = df['Resenia'].mean()\n",
    "\n",
    "    # Controla si el valor la columna \"Tipo\" es \"Normal\" o \"Member\", de lo contrario se reemplaza el valor por \"Normal\"\n",
    "    if df.loc[i, \"Tipo\"] not in (\"Normal\",\"Member\"):\n",
    "        df.loc[i, \"Tipo\"] = \"Normal\"\n",
    "\n",
    "    # Controla si el valor la columna \"Costo\" y \"Ventas\" es 0 < valor < 5000, de lo contrario se reemplaza por la mediana de cada columna\n",
    "    if df.loc[i, \"Costo\"] <= 0 or df.loc[i, \"Costo\"] > 5000:\n",
    "        df.loc[i, \"Costo\"] = df[\"Costo\"].median()\n",
    "\n",
    "    if df.loc[i, \"Ventas\"] <= 0 or df.loc[i, \"Ventas\"] > 5000:\n",
    "        df.loc[i, \"Ventas\"] = df[\"Ventas\"].median()\n",
    "\n",
    "\n",
    "    # manejo de error para cuando el registro ya no exista el programa continua e informa que el registro no existe\n",
    "    try:\n",
    "        # Controla si el valor la columna \"Sucursal\" está en las opciones \"A\",\"B\", \"C\", de lo contrario elimina el registro completo\n",
    "        if df.loc[i, \"Sucursal\"] not in sucursales:\n",
    "            df = df.drop(i)\n",
    "\n",
    "        # Controla si el valor la columna \"Sucursal\" está en las opciones \"A\",\"B\", \"C\", de lo contrario elimina el registro completo\n",
    "        if df.loc[i, \"Ciudad\"] not in ciudades:\n",
    "            df = df.drop(i)\n",
    "\n",
    "        if df.loc[i, \"Categoria\"] not in categorias:\n",
    "            df = df.drop(i)\n",
    "    except:\n",
    "        print(\"El registro ya no existe\")\n",
    "   "
   ]
  },
  {
   "cell_type": "markdown",
   "id": "120a6e2b",
   "metadata": {},
   "source": [
    "## · Imprimir los primeros diez registros"
   ]
  },
  {
   "cell_type": "code",
   "execution_count": 57,
   "id": "4614a920",
   "metadata": {},
   "outputs": [
    {
     "name": "stdout",
     "output_type": "stream",
     "text": [
      "        Factura Sucursal      Ciudad    Tipo  Genero               Categoria  \\\n",
      "0   750-67-8428        A  Nueva York  Member  Female       Health and beauty   \n",
      "1   226-31-3081        C     Houston  Normal  Female  Electronic accessories   \n",
      "2   631-41-3108        A  Nueva York  Normal    Male      Home and lifestyle   \n",
      "3   123-19-1176        A  Nueva York  Member    Male       Health and beauty   \n",
      "5   699-14-3026        C     Houston  Normal    Male  Electronic accessories   \n",
      "6   355-53-5943        A  Nueva York  Member  Female  Electronic accessories   \n",
      "8   665-32-9167        A  Nueva York  Member  Female       Health and beauty   \n",
      "10  351-62-0822        B     Chicago  Member  Female     Fashion accessories   \n",
      "11  529-56-3974        B     Chicago  Member    Male  Electronic accessories   \n",
      "14  829-34-3910        A  Nueva York  Normal  Female       Health and beauty   \n",
      "\n",
      "     Costo  Ventas      Fecha   Hora Metodo de Pago   Resenia  \n",
      "0   522.83  548.97 2019-01-05  13:08        Ewallet  6.996456  \n",
      "1    76.40   80.22 2019-03-08  10:29           Cash  9.600000  \n",
      "2   324.31  340.53 2019-03-08  13:23    Credit card  7.400000  \n",
      "3   465.76  489.05 2019-01-27  20:33        Ewallet  8.400000  \n",
      "5   597.73  627.62 2019-03-25  18:30        Ewallet  4.100000  \n",
      "6   413.04  433.69 2019-02-25  14:36        Ewallet  5.800000  \n",
      "8    72.52   76.15 2019-01-10  17:15    Credit card  7.200000  \n",
      "10   57.92   60.82 2019-02-06  18:07        Ewallet  4.500000  \n",
      "11  102.04  107.14 2019-03-09  17:03           Cash  6.800000  \n",
      "14  713.80  749.49 2019-03-29  19:21           Cash  5.700000  \n"
     ]
    }
   ],
   "source": [
    "print(df.head(10))"
   ]
  },
  {
   "cell_type": "markdown",
   "id": "13d04037",
   "metadata": {},
   "source": [
    "## ·        Describir el dataset\n",
    "### Se comenta la descripción total del DataFrame y se describe solo las variables que necesitamos"
   ]
  },
  {
   "cell_type": "code",
   "execution_count": 58,
   "id": "ffc65f88",
   "metadata": {},
   "outputs": [
    {
     "name": "stdout",
     "output_type": "stream",
     "text": [
      "\n",
      "=== ESTADÍSTICAS DESCRIPTIVAS ===\n",
      "\n",
      "Variables numéricas:\n",
      "            Costo      Ventas     Resenia\n",
      "count  319.000000  319.000000  319.000000\n",
      "mean   305.600909  313.292900    7.036319\n",
      "std    216.407862  218.189575    1.725848\n",
      "min      2.000000   13.170000    4.000000\n",
      "25%    142.415000  146.275000    5.600000\n",
      "50%    271.725000  271.950000    7.000000\n",
      "75%    425.295000  454.000000    8.500000\n",
      "max    993.000000  942.900000   10.000000\n",
      "\n",
      "Variables categóricas:\n",
      "       Sucursal      Ciudad    Tipo Genero           Categoria Metodo de Pago\n",
      "count       319         319     319    316                 319            317\n",
      "unique        3           3       2     10                   6              5\n",
      "top           A  Nueva York  Normal   Male  Home and lifestyle           Cash\n",
      "freq        117         117     172    164                  60            127\n",
      "\n",
      "=== SIMETRÍA DE VARIABLES NUMÉRICAS ===\n",
      "Costo:\n",
      "  Asimetría: 0.97\n",
      "  Distribución moderadamente asimétrica\n",
      "Ventas:\n",
      "  Asimetría: 0.83\n",
      "  Distribución moderadamente asimétrica\n",
      "Resenia:\n",
      "  Asimetría: 0.02\n",
      "  Distribución aproximadamente simétrica\n"
     ]
    }
   ],
   "source": [
    "#print(df.describe(include='all'))\n",
    "\n",
    "print(\"\\n=== ESTADÍSTICAS DESCRIPTIVAS ===\")\n",
    "print(\"\\nVariables numéricas:\")\n",
    "print(df[['Costo', 'Ventas', 'Resenia']].describe())\n",
    "\n",
    "print(\"\\nVariables categóricas:\")\n",
    "print(df[['Sucursal', 'Ciudad', 'Tipo', 'Genero', 'Categoria', 'Metodo de Pago']].describe(include='object'))\n",
    "\n",
    "# Análisis de simetría\n",
    "print(\"\\n=== SIMETRÍA DE VARIABLES NUMÉRICAS ===\")\n",
    "numeric_cols = ['Costo', 'Ventas', 'Resenia']\n",
    "for col in numeric_cols:\n",
    "    skewness = df[col].skew()  # Intenta calcular asimetría en una columna de texto\n",
    "    print(f\"{col}:\")\n",
    "    print(f\"  Asimetría: {skewness:.2f}\")\n",
    "    if abs(skewness) < 0.5:\n",
    "        print(\"  Distribución aproximadamente simétrica\")\n",
    "    elif 0.5 <= abs(skewness) < 1:\n",
    "        print(\"  Distribución moderadamente asimétrica\")\n",
    "    else:\n",
    "        print(\"  Distribución altamente asimétrica\")"
   ]
  },
  {
   "cell_type": "markdown",
   "id": "38b79926",
   "metadata": {},
   "source": [
    "## ·        Análisis de columnas numéricas"
   ]
  },
  {
   "cell_type": "code",
   "execution_count": 59,
   "id": "e4769e4d",
   "metadata": {},
   "outputs": [
    {
     "name": "stdout",
     "output_type": "stream",
     "text": [
      "Análisis de la columna numérica: Costo\n",
      "Valores válidos sobre el total: 319 / 319\n",
      "Media: 305.6\n",
      "Mediana: 271.73\n",
      "Desviación estándar: 216.41\n",
      "Valores ausentes: 0\n",
      "Valores mal registrados o erróneos: 0\n",
      "\n",
      "Análisis de la columna numérica: Ventas\n",
      "Valores válidos sobre el total: 319 / 319\n",
      "Media: 313.29\n",
      "Mediana: 271.95\n",
      "Desviación estándar: 218.19\n",
      "Valores ausentes: 0\n",
      "Valores mal registrados o erróneos: 0\n",
      "\n",
      "Análisis de la columna numérica: Resenia\n",
      "Valores válidos sobre el total: 319 / 319\n",
      "Media: 7.04\n",
      "Mediana: 7.0\n",
      "Desviación estándar: 1.73\n",
      "Valores ausentes: 0\n",
      "Valores mal registrados o erróneos: 0\n",
      "\n"
     ]
    }
   ],
   "source": [
    "numeric_cols = df.select_dtypes(include=['number']).columns\n",
    "\n",
    "for col in numeric_cols:\n",
    "    print(f\"Análisis de la columna numérica: {col}\")\n",
    "    print(f\"Valores válidos sobre el total: {df[col].count()} / {len(df)}\")\n",
    "    print(f\"Media: {round(df[col].mean(), 2)}\")\n",
    "    print(f\"Mediana: {round(df[col].median(), 2)}\")\n",
    "    print(f\"Desviación estándar: {round(df[col].std(), 2)}\")\n",
    "    print(f\"Valores ausentes: {df[col].isna().sum()}\")\n",
    "    print(f\"Valores mal registrados o erróneos: {df[col].isna().sum() + df[col].isnull().sum()}\")\n",
    "    print(\"\")"
   ]
  },
  {
   "cell_type": "markdown",
   "id": "ad783e8b",
   "metadata": {},
   "source": [
    "## ·        Análisis de columnas categóricas"
   ]
  },
  {
   "cell_type": "code",
   "execution_count": 60,
   "id": "96c20dcb",
   "metadata": {},
   "outputs": [
    {
     "name": "stdout",
     "output_type": "stream",
     "text": [
      "Análisis de la columna categórica: Factura\n",
      "Factura\n",
      "750-67-8428    1\n",
      "687-15-1097    1\n",
      "828-61-5674    1\n",
      "537-72-0426    1\n",
      "376-56-3573    1\n",
      "              ..\n",
      "894-41-5205    1\n",
      "423-57-2993    1\n",
      "743-04-1105    1\n",
      "307-85-2293    1\n",
      "831-64-0259    1\n",
      "Name: count, Length: 318, dtype: int64\n",
      "Registros válidos sobre el total: 318 / 319\n",
      "Valores ausentes: 1\n",
      "Valores mal registrados o erróneos: 2\n",
      "\n",
      "Análisis de la columna categórica: Sucursal\n",
      "Sucursal\n",
      "A    117\n",
      "C    102\n",
      "B    100\n",
      "Name: count, dtype: int64\n",
      "Registros válidos sobre el total: 319 / 319\n",
      "Valores ausentes: 0\n",
      "Valores mal registrados o erróneos: 0\n",
      "\n",
      "Análisis de la columna categórica: Ciudad\n",
      "Ciudad\n",
      "Nueva York    117\n",
      "Houston       102\n",
      "Chicago       100\n",
      "Name: count, dtype: int64\n",
      "Registros válidos sobre el total: 319 / 319\n",
      "Valores ausentes: 0\n",
      "Valores mal registrados o erróneos: 0\n",
      "\n",
      "Análisis de la columna categórica: Tipo\n",
      "Tipo\n",
      "Normal    172\n",
      "Member    147\n",
      "Name: count, dtype: int64\n",
      "Registros válidos sobre el total: 319 / 319\n",
      "Valores ausentes: 0\n",
      "Valores mal registrados o erróneos: 0\n",
      "\n",
      "Análisis de la columna categórica: Genero\n",
      "Genero\n",
      "Male            164\n",
      "Female          143\n",
      "Normal            2\n",
      "102.3             1\n",
      "193.01            1\n",
      "Malo              1\n",
      "Noraml            1\n",
      "Member            1\n",
      "FemaleMember      1\n",
      "2/14/2019         1\n",
      "Name: count, dtype: int64\n",
      "Registros válidos sobre el total: 316 / 319\n",
      "Valores ausentes: 3\n",
      "Valores mal registrados o erróneos: 6\n",
      "\n",
      "Análisis de la columna categórica: Categoria\n",
      "Categoria\n",
      "Home and lifestyle        60\n",
      "Electronic accessories    56\n",
      "Food and beverages        56\n",
      "Health and beauty         53\n",
      "Fashion accessories       52\n",
      "Sports and travel         42\n",
      "Name: count, dtype: int64\n",
      "Registros válidos sobre el total: 319 / 319\n",
      "Valores ausentes: 0\n",
      "Valores mal registrados o erróneos: 0\n",
      "\n",
      "Análisis de la columna categórica: Hora\n",
      "Hora\n",
      "14:16    3\n",
      "19:57    3\n",
      "10:55    3\n",
      "12:45    3\n",
      "19:17    3\n",
      "        ..\n",
      "11:36    1\n",
      "17:34    1\n",
      "12:04    1\n",
      "10:50    1\n",
      "10:43    1\n",
      "Name: count, Length: 252, dtype: int64\n",
      "Registros válidos sobre el total: 313 / 319\n",
      "Valores ausentes: 6\n",
      "Valores mal registrados o erróneos: 12\n",
      "\n",
      "Análisis de la columna categórica: Metodo de Pago\n",
      "Metodo de Pago\n",
      "Cash           127\n",
      "Ewallet         96\n",
      "Credit card     92\n",
      "112.22           1\n",
      "3/18/2019        1\n",
      "Name: count, dtype: int64\n",
      "Registros válidos sobre el total: 317 / 319\n",
      "Valores ausentes: 2\n",
      "Valores mal registrados o erróneos: 4\n",
      "\n"
     ]
    }
   ],
   "source": [
    "categorical_cols = df.select_dtypes(include=['object']).columns\n",
    "\n",
    "for col in categorical_cols:\n",
    "    print(f\"Análisis de la columna categórica: {col}\")\n",
    "    print(df[col].value_counts())\n",
    "    print(f\"Registros válidos sobre el total: {df[col].count()} / {len(df)}\")\n",
    "    print(f\"Valores ausentes: {df[col].isna().sum()}\")\n",
    "    print(f\"Valores mal registrados o erróneos: {df[col].isna().sum() + df[col].isnull().sum()}\")\n",
    "    print(\"\")"
   ]
  },
  {
   "cell_type": "markdown",
   "id": "4422be3e",
   "metadata": {},
   "source": [
    "## ·        Análisis de otras variables"
   ]
  },
  {
   "cell_type": "code",
   "execution_count": 61,
   "id": "97e6e11f",
   "metadata": {},
   "outputs": [
    {
     "name": "stdout",
     "output_type": "stream",
     "text": [
      "Análisis de la columna: Fecha\n",
      "Valores válidos sobre el total: 319 / 319\n",
      "Valores ausentes: 0\n",
      "Valores mal registrados o erróneos: 0\n",
      "\n"
     ]
    }
   ],
   "source": [
    "other_cols = df.columns.difference(numeric_cols).difference(categorical_cols)\n",
    "\n",
    "for col in other_cols:\n",
    "    print(f\"Análisis de la columna: {col}\")\n",
    "    print(f\"Valores válidos sobre el total: {df[col].count()} / {len(df)}\")\n",
    "    print(f\"Valores ausentes: {df[col].isna().sum()}\")\n",
    "    print(f\"Valores mal registrados o erróneos: {df[col].isna().sum() + df[col].isnull().sum()}\")\n",
    "    print(\"\")"
   ]
  },
  {
   "cell_type": "markdown",
   "id": "5a14612c",
   "metadata": {},
   "source": [
    "# GRÁFICOS "
   ]
  },
  {
   "cell_type": "markdown",
   "id": "3377ad44",
   "metadata": {},
   "source": [
    "## Gráfico de cantidad de Ventas por Ciudad"
   ]
  },
  {
   "cell_type": "code",
   "execution_count": 67,
   "id": "da51c364",
   "metadata": {},
   "outputs": [
    {
     "name": "stdout",
     "output_type": "stream",
     "text": [
      "                        count\n",
      "Categoria                    \n",
      "Home and lifestyle         60\n",
      "Electronic accessories     56\n",
      "Food and beverages         56\n",
      "Health and beauty          53\n",
      "Fashion accessories        52\n",
      "Sports and travel          42\n"
     ]
    },
    {
     "data": {
      "image/png": "[encoded data removed]",
      "text/plain": [
       "<Figure size 640x480 with 1 Axes>"
      ]
     },
     "metadata": {},
     "output_type": "display_data"
    }
   ],
   "source": [
    "df_vta_ciudad = pd.DataFrame(df[\"Ciudad\"].value_counts())\n",
    "print(df_vta_categorias)\n",
    "\n",
    "plt.bar(df_vta_ciudad.index, df_vta_ciudad[\"count\"])\n",
    "plt.show()\n"
   ]
  },
  {
   "cell_type": "markdown",
   "id": "575d1ac3",
   "metadata": {},
   "source": [
    "## Gráfico de porcentajes de clientes que son miembros y de los que no son miembros.\n",
    "### Tienen el propósito de analizar la cantidad de clientes que se registran en la base de datos y fomentar la registración de dichos clientes para obtener mas metadatos y ofrecerles ofertas personalizadas."
   ]
  },
  {
   "cell_type": "code",
   "execution_count": 63,
   "id": "ffcdfe5f",
   "metadata": {},
   "outputs": [
    {
     "data": {
      "image/png": "[encoded data removed]",
      "text/plain": [
       "<Figure size 640x480 with 1 Axes>"
      ]
     },
     "metadata": {},
     "output_type": "display_data"
    }
   ],
   "source": [
    "# Genera un grafico de torta para representar porcentajes de tipos de clientes\n",
    "plt.pie(df['Tipo'].value_counts(), labels = df['Tipo'].value_counts().index)\n",
    "plt.show()"
   ]
  },
  {
   "cell_type": "markdown",
   "id": "f9321d02",
   "metadata": {},
   "source": [
    "## Gráfico de las reseñas de las sucursales (Calificación)"
   ]
  },
  {
   "cell_type": "code",
   "execution_count": 66,
   "id": "ae795d9d",
   "metadata": {},
   "outputs": [
    {
     "name": "stdout",
     "output_type": "stream",
     "text": [
      "           Resenia\n",
      "Sucursal          \n",
      "A         7.002504\n",
      "B         6.896929\n",
      "C         7.211765\n"
     ]
    },
    {
     "data": {
      "image/png": "[encoded data removed]",
      "text/plain": [
       "<Figure size 640x480 with 1 Axes>"
      ]
     },
     "metadata": {},
     "output_type": "display_data"
    }
   ],
   "source": [
    "reseniasSucursal = pd.DataFrame(df['Resenia'].groupby(df['Sucursal']).mean())\n",
    "\n",
    "print(reseniasSucursal)\n",
    "\n",
    "plt.bar(reseniasSucursal.index, reseniasSucursal[\"Resenia\"], color = \"yellow\")\n",
    "plt.show()"
   ]
  },
  {
   "cell_type": "markdown",
   "id": "8feed061",
   "metadata": {},
   "source": [
    "## Gráfico de Ventas por categoría"
   ]
  },
  {
   "cell_type": "code",
   "execution_count": 68,
   "id": "b73a15e9",
   "metadata": {},
   "outputs": [
    {
     "name": "stdout",
     "output_type": "stream",
     "text": [
      "                        count\n",
      "Categoria                    \n",
      "Home and lifestyle         60\n",
      "Electronic accessories     56\n",
      "Food and beverages         56\n",
      "Health and beauty          53\n",
      "Fashion accessories        52\n",
      "Sports and travel          42\n"
     ]
    },
    {
     "data": {
      "image/png": "[encoded data removed]",
      "text/plain": [
       "<Figure size 640x480 with 1 Axes>"
      ]
     },
     "metadata": {},
     "output_type": "display_data"
    }
   ],
   "source": [
    "df_vta_categorias = pd.DataFrame(df[\"Categoria\"].value_counts())\n",
    "\n",
    "print(df_vta_categorias)\n",
    "\n",
    "plt.bar(df_vta_categorias.index, df_vta_categorias[\"count\"], color = \"orange\")\n",
    "plt.show()"
   ]
  }
 ],
 "metadata": {
  "kernelspec": {
   "display_name": "Python 3",
   "language": "python",
   "name": "python3"
  },
  "language_info": {
   "codemirror_mode": {
    "name": "ipython",
    "version": 3
   },
   "file_extension": ".py",
   "mimetype": "text/x-python",
   "name": "python",
   "nbconvert_exporter": "python",
   "pygments_lexer": "ipython3",
   "version": "3.13.0"
  }
 },
 "nbformat": 4,
 "nbformat_minor": 5
}
